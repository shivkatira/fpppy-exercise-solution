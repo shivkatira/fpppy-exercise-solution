{
 "cells": [
  {
   "cell_type": "markdown",
   "metadata": {},
   "source": [
    "1. \n",
    "    * \n",
    "        * Distance Drove\n",
    "        * Vehicle Company\n",
    "        * Any Damages\n",
    "        * Damage Type\n",
    "        * Number of Times Repaired\n",
    "        * Vehicle Life\n",
    "        * Usage of Vehicle\n",
    "\n",
    "    *\n",
    "        * School Holidays for Source\n",
    "        * School Holidays for Destination\n",
    "        * Day of Week\n",
    "        * Event for Source\n",
    "        * Event for Destination\n",
    "        * Promotional Activity by any Industry Player\n",
    "        * Abnormal Events\n",
    "\n"
   ]
  },
  {
   "cell_type": "markdown",
   "metadata": {},
   "source": [
    "2. \n",
    "    * Problem Statement: Identifying variables impacting the resale value the most and quantifying the importance of each of these variables.\n",
    "    * Data Collection: Gathering information about the resale value and the above listed predictor values from the past transactions.\n",
    "    * Exploratory Analysis: Ploting the data to summarize and understand the fluctuations, cycles, trends and relationships.\n",
    "    * Model Selection & Development: Exploring and experimenting with the data.\n",
    "    * Model Deployment & Monitoring: Deploy the developed model and monitor the predictions."
   ]
  }
 ],
 "metadata": {
  "language_info": {
   "name": "python"
  }
 },
 "nbformat": 4,
 "nbformat_minor": 2
}
